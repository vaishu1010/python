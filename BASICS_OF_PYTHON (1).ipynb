{
 "cells": [
  {
   "cell_type": "code",
   "execution_count": null,
   "id": "0b6926cd",
   "metadata": {},
   "outputs": [],
   "source": [
    "# PYTHON :\n",
    "* The python is interperted, object oriented, high level programming langauage with Dynamic semantic.\n",
    "* Python is a case sensetive.\n",
    "* Python is used for :\n",
    "    1.web development\n",
    "    2.software development\n",
    "    3.mathematics\n",
    "    4.system scripting\n",
    "* Python runs on the interpreted system meaning that code can be executed as soon written.This means that prototyping very quick.\n",
    "* Python can be treated in a procedual way an object- oriented way or functional way.\n",
    "* Python syntax are easy compare to others langauge. "
   ]
  },
  {
   "cell_type": "code",
   "execution_count": null,
   "id": "a12576c7",
   "metadata": {},
   "outputs": [],
   "source": [
    "The print function in python is a function that outputs to your conside window whatever you say you want to print out."
   ]
  },
  {
   "cell_type": "code",
   "execution_count": 3,
   "id": "5c74569f",
   "metadata": {},
   "outputs": [
    {
     "name": "stdout",
     "output_type": "stream",
     "text": [
      "Hello World\n"
     ]
    }
   ],
   "source": [
    "In[ ]:\n",
    "    print(\"Hello World\")"
   ]
  },
  {
   "cell_type": "code",
   "execution_count": null,
   "id": "8e148eb9",
   "metadata": {},
   "outputs": [],
   "source": [
    "VARIABLE :\n",
    "    Variable only start with alphabets."
   ]
  },
  {
   "cell_type": "code",
   "execution_count": 6,
   "id": "d2bbe527",
   "metadata": {},
   "outputs": [
    {
     "name": "stdout",
     "output_type": "stream",
     "text": [
      "10\n"
     ]
    }
   ],
   "source": [
    "a=10\n",
    "b=10\n",
    "print(a)"
   ]
  },
  {
   "cell_type": "code",
   "execution_count": 7,
   "id": "b0e3cfa6",
   "metadata": {},
   "outputs": [
    {
     "name": "stdout",
     "output_type": "stream",
     "text": [
      "10 10\n"
     ]
    }
   ],
   "source": [
    "print(a,b)"
   ]
  },
  {
   "cell_type": "code",
   "execution_count": 8,
   "id": "29a579d6",
   "metadata": {},
   "outputs": [
    {
     "name": "stdout",
     "output_type": "stream",
     "text": [
      "2440922360400\n"
     ]
    }
   ],
   "source": [
    " print(id(a))"
   ]
  },
  {
   "cell_type": "code",
   "execution_count": 9,
   "id": "ce1d3ee0",
   "metadata": {},
   "outputs": [
    {
     "name": "stdout",
     "output_type": "stream",
     "text": [
      "2440922360400\n"
     ]
    }
   ],
   "source": [
    "print(id(b))"
   ]
  },
  {
   "cell_type": "code",
   "execution_count": 10,
   "id": "cb3cd914",
   "metadata": {},
   "outputs": [
    {
     "name": "stdout",
     "output_type": "stream",
     "text": [
      "2440922360720\n"
     ]
    }
   ],
   "source": [
    "c=20\n",
    "print(id(c))"
   ]
  },
  {
   "cell_type": "code",
   "execution_count": 11,
   "id": "534ab666",
   "metadata": {},
   "outputs": [
    {
     "name": "stdout",
     "output_type": "stream",
     "text": [
      "10\n"
     ]
    }
   ],
   "source": [
    "A = 'Hello'\n",
    "print(a)"
   ]
  },
  {
   "cell_type": "code",
   "execution_count": 12,
   "id": "eb3b7bcd",
   "metadata": {},
   "outputs": [
    {
     "name": "stdout",
     "output_type": "stream",
     "text": [
      "10\n"
     ]
    }
   ],
   "source": [
    "_ =10\n",
    "print(_)"
   ]
  },
  {
   "cell_type": "code",
   "execution_count": 13,
   "id": "2c08e110",
   "metadata": {},
   "outputs": [
    {
     "name": "stdout",
     "output_type": "stream",
     "text": [
      "5\n"
     ]
    }
   ],
   "source": [
    "a1=5\n",
    "print(a1)"
   ]
  },
  {
   "cell_type": "code",
   "execution_count": 14,
   "id": "3eb543ff",
   "metadata": {},
   "outputs": [
    {
     "ename": "SyntaxError",
     "evalue": "invalid syntax (Temp/ipykernel_556/1881863838.py, line 1)",
     "output_type": "error",
     "traceback": [
      "\u001b[1;36m  File \u001b[1;32m\"C:\\Users\\HP\\AppData\\Local\\Temp/ipykernel_556/1881863838.py\"\u001b[1;36m, line \u001b[1;32m1\u001b[0m\n\u001b[1;33m    1a=5\u001b[0m\n\u001b[1;37m     ^\u001b[0m\n\u001b[1;31mSyntaxError\u001b[0m\u001b[1;31m:\u001b[0m invalid syntax\n"
     ]
    }
   ],
   "source": [
    "1a=5\n",
    "print(1a)"
   ]
  },
  {
   "cell_type": "code",
   "execution_count": 15,
   "id": "4af4866a",
   "metadata": {},
   "outputs": [
    {
     "name": "stdout",
     "output_type": "stream",
     "text": [
      "15\n"
     ]
    }
   ],
   "source": [
    "a_b=15\n",
    "print(a_b)"
   ]
  },
  {
   "cell_type": "code",
   "execution_count": 16,
   "id": "c23745bd",
   "metadata": {},
   "outputs": [
    {
     "name": "stdout",
     "output_type": "stream",
     "text": [
      "a_b\n"
     ]
    }
   ],
   "source": [
    "print('a_b')"
   ]
  },
  {
   "cell_type": "code",
   "execution_count": 17,
   "id": "30a446da",
   "metadata": {},
   "outputs": [
    {
     "ename": "SyntaxError",
     "evalue": "invalid syntax (Temp/ipykernel_556/3222436574.py, line 1)",
     "output_type": "error",
     "traceback": [
      "\u001b[1;36m  File \u001b[1;32m\"C:\\Users\\HP\\AppData\\Local\\Temp/ipykernel_556/3222436574.py\"\u001b[1;36m, line \u001b[1;32m1\u001b[0m\n\u001b[1;33m    @a=40\u001b[0m\n\u001b[1;37m      ^\u001b[0m\n\u001b[1;31mSyntaxError\u001b[0m\u001b[1;31m:\u001b[0m invalid syntax\n"
     ]
    }
   ],
   "source": [
    "@a=40\n",
    "print(@a)"
   ]
  },
  {
   "cell_type": "code",
   "execution_count": 18,
   "id": "ed82fda0",
   "metadata": {},
   "outputs": [
    {
     "name": "stdout",
     "output_type": "stream",
     "text": [
      "30\n"
     ]
    }
   ],
   "source": [
    "_a=30\n",
    "print(_a)"
   ]
  },
  {
   "cell_type": "code",
   "execution_count": 19,
   "id": "9317b80a",
   "metadata": {},
   "outputs": [
    {
     "name": "stdout",
     "output_type": "stream",
     "text": [
      "HelloNetTech India\n"
     ]
    }
   ],
   "source": [
    "# String concatenation join two string variables\n",
    "a =\"Hello\"\n",
    "b = \"NetTech India\"\n",
    "print(a+b)"
   ]
  },
  {
   "cell_type": "code",
   "execution_count": 20,
   "id": "1e9cb382",
   "metadata": {},
   "outputs": [
    {
     "name": "stdout",
     "output_type": "stream",
     "text": [
      "Hello NetTech India\n"
     ]
    }
   ],
   "source": [
    "print(a+\" \"+b)"
   ]
  },
  {
   "cell_type": "code",
   "execution_count": 21,
   "id": "f15e109f",
   "metadata": {},
   "outputs": [
    {
     "name": "stdout",
     "output_type": "stream",
     "text": [
      "60\n"
     ]
    }
   ],
   "source": [
    "c = 30\n",
    "print(c+30)"
   ]
  },
  {
   "cell_type": "code",
   "execution_count": 22,
   "id": "07a40388",
   "metadata": {},
   "outputs": [
    {
     "ename": "TypeError",
     "evalue": "can only concatenate str (not \"int\") to str",
     "output_type": "error",
     "traceback": [
      "\u001b[1;31m---------------------------------------------------------------------------\u001b[0m",
      "\u001b[1;31mTypeError\u001b[0m                                 Traceback (most recent call last)",
      "\u001b[1;32m~\\AppData\\Local\\Temp/ipykernel_556/4222838292.py\u001b[0m in \u001b[0;36m<module>\u001b[1;34m\u001b[0m\n\u001b[1;32m----> 1\u001b[1;33m \u001b[0mprint\u001b[0m\u001b[1;33m(\u001b[0m\u001b[0ma\u001b[0m\u001b[1;33m+\u001b[0m\u001b[0mc\u001b[0m\u001b[1;33m)\u001b[0m\u001b[1;33m\u001b[0m\u001b[1;33m\u001b[0m\u001b[0m\n\u001b[0m",
      "\u001b[1;31mTypeError\u001b[0m: can only concatenate str (not \"int\") to str"
     ]
    }
   ],
   "source": [
    "print(a+c)"
   ]
  },
  {
   "cell_type": "code",
   "execution_count": 23,
   "id": "83c88bea",
   "metadata": {},
   "outputs": [
    {
     "name": "stdout",
     "output_type": "stream",
     "text": [
      "Hello50\n"
     ]
    }
   ],
   "source": [
    "d='50'\n",
    "print(a+d)"
   ]
  },
  {
   "cell_type": "code",
   "execution_count": 27,
   "id": "f4cf7ee1",
   "metadata": {},
   "outputs": [
    {
     "name": "stdout",
     "output_type": "stream",
     "text": [
      "10\n",
      "vaishnavi\n"
     ]
    },
    {
     "ename": "NameError",
     "evalue": "name 'Hello' is not defined",
     "output_type": "error",
     "traceback": [
      "\u001b[1;31m---------------------------------------------------------------------------\u001b[0m",
      "\u001b[1;31mNameError\u001b[0m                                 Traceback (most recent call last)",
      "\u001b[1;32m~\\AppData\\Local\\Temp/ipykernel_556/926928652.py\u001b[0m in \u001b[0;36m<module>\u001b[1;34m\u001b[0m\n\u001b[0;32m      3\u001b[0m \u001b[0mb\u001b[0m\u001b[1;33m=\u001b[0m\u001b[1;34m\"vaishnavi\"\u001b[0m\u001b[1;33m\u001b[0m\u001b[1;33m\u001b[0m\u001b[0m\n\u001b[0;32m      4\u001b[0m \u001b[0mprint\u001b[0m\u001b[1;33m(\u001b[0m\u001b[0mb\u001b[0m\u001b[1;33m)\u001b[0m\u001b[1;33m\u001b[0m\u001b[1;33m\u001b[0m\u001b[0m\n\u001b[1;32m----> 5\u001b[1;33m \u001b[0mc\u001b[0m\u001b[1;33m=\u001b[0m \u001b[0mHello\u001b[0m\u001b[1;33m\u001b[0m\u001b[1;33m\u001b[0m\u001b[0m\n\u001b[0m\u001b[0;32m      6\u001b[0m \u001b[0mprint\u001b[0m\u001b[1;33m(\u001b[0m\u001b[0mc\u001b[0m\u001b[1;33m)\u001b[0m\u001b[1;33m\u001b[0m\u001b[1;33m\u001b[0m\u001b[0m\n",
      "\u001b[1;31mNameError\u001b[0m: name 'Hello' is not defined"
     ]
    }
   ],
   "source": [
    "a=10\n",
    "print(a)\n",
    "b=\"vaishnavi\"\n",
    "print(b)\n",
    "c= Hello\n",
    "print(c)"
   ]
  },
  {
   "cell_type": "code",
   "execution_count": null,
   "id": "acd2757f",
   "metadata": {},
   "outputs": [],
   "source": [
    "# Keyword:\n",
    "The keywords are the reserved word in the python. These reserved words cannot be used as function name, variable name or any other identifier.\n",
    "and|as|break|class|continue|def|del|elif|else|except|False|finally|for|from|global|if|import|in|is|lamba|None|nonlocal|not|or|pass|raise|return|True|try|while|with|yield"
   ]
  },
  {
   "cell_type": "code",
   "execution_count": null,
   "id": "d1866d83",
   "metadata": {},
   "outputs": [],
   "source": [
    "help(\"keywords\")"
   ]
  },
  {
   "cell_type": "code",
   "execution_count": null,
   "id": "92006cc2",
   "metadata": {},
   "outputs": [],
   "source": [
    "Here is a list of the python keywords. Enter any keywords to get more help.\n",
    "False                class              from               or\n",
    "None                 continue          global             pass\n",
    "True                 def                if                raise\n",
    "and                  del                import            return\n",
    "as                   elif               in                try\n",
    "assert               else               is                while\n",
    "async                 except            lambda            with\n",
    "await                 finally           nonlocal         yield \n",
    "break                 for               not                 "
   ]
  },
  {
   "cell_type": "code",
   "execution_count": null,
   "id": "166cbf46",
   "metadata": {},
   "outputs": [],
   "source": [
    "Statements:\n",
    "    Instruction that you code and that a python interpreter can execute are called statements."
   ]
  },
  {
   "cell_type": "code",
   "execution_count": 28,
   "id": "bff3e37b",
   "metadata": {},
   "outputs": [],
   "source": [
    "a=1+2+5"
   ]
  },
  {
   "cell_type": "code",
   "execution_count": null,
   "id": "fe04accc",
   "metadata": {},
   "outputs": [],
   "source": [
    "# Comments:\n",
    "comments are nothing but the sentences that the python interpreter ignores."
   ]
  },
  {
   "cell_type": "code",
   "execution_count": 30,
   "id": "bf33ace5",
   "metadata": {},
   "outputs": [
    {
     "name": "stdout",
     "output_type": "stream",
     "text": [
      "Hello world\n"
     ]
    }
   ],
   "source": [
    "#this is a comment \n",
    "print(\"Hello world\")      "
   ]
  },
  {
   "cell_type": "code",
   "execution_count": 33,
   "id": "c13e10e9",
   "metadata": {},
   "outputs": [
    {
     "name": "stdout",
     "output_type": "stream",
     "text": [
      "Hello world !\n"
     ]
    }
   ],
   "source": [
    "'''I start my comment from this line... \n",
    "still the comment...\n",
    "still the comment...\n",
    "okay finished :)'''\n",
    "print(\"Hello world !\")"
   ]
  },
  {
   "cell_type": "code",
   "execution_count": 35,
   "id": "9c683f5f",
   "metadata": {},
   "outputs": [
    {
     "name": "stdout",
     "output_type": "stream",
     "text": [
      "Hello world !\n"
     ]
    }
   ],
   "source": [
    "\"\"\"I start my comment from this line...\n",
    "still the comment...\n",
    "still the comment...\n",
    "ok finished : )\"\"\"\n",
    "print(\"Hello world !\")"
   ]
  },
  {
   "cell_type": "code",
   "execution_count": null,
   "id": "30c30ccf",
   "metadata": {},
   "outputs": [],
   "source": [
    "# Indentation:\n",
    "Indentetion in the python refers to the (space and tabs) that are used at the begiining of a statement or a code we write"
   ]
  },
  {
   "cell_type": "code",
   "execution_count": null,
   "id": "6b5342a9",
   "metadata": {},
   "outputs": [],
   "source": [
    "## data type \n",
    "1. integer\n",
    "2. float\n",
    "3. complex\n",
    "4. string\n",
    "5. list\n",
    "6. tuple\n",
    "7. set\n",
    "8. dictinary\n",
    "9. boolaen\n",
    "10.range"
   ]
  },
  {
   "cell_type": "code",
   "execution_count": 4,
   "id": "b3b36528",
   "metadata": {},
   "outputs": [
    {
     "name": "stdout",
     "output_type": "stream",
     "text": [
      "<class 'int'>\n"
     ]
    }
   ],
   "source": [
    "# we can used type fuction  to get the type of information of a value.\n",
    "a = 10 \n",
    "print(type(a))"
   ]
  },
  {
   "cell_type": "code",
   "execution_count": 3,
   "id": "17641e49",
   "metadata": {},
   "outputs": [
    {
     "name": "stdout",
     "output_type": "stream",
     "text": [
      "<class 'float'>\n"
     ]
    }
   ],
   "source": [
    "b = 10.0\n",
    "print(type(b))"
   ]
  },
  {
   "cell_type": "code",
   "execution_count": 2,
   "id": "33e6b22c",
   "metadata": {},
   "outputs": [
    {
     "name": "stdout",
     "output_type": "stream",
     "text": [
      "<class 'complex'>\n"
     ]
    }
   ],
   "source": [
    "# A complex number is a number with a and real and on imaginary component represented ass a +bj \n",
    "c =  10j\n",
    "print(type(c))"
   ]
  },
  {
   "cell_type": "code",
   "execution_count": 5,
   "id": "dfea630a",
   "metadata": {},
   "outputs": [
    {
     "data": {
      "text/plain": [
       "str"
      ]
     },
     "execution_count": 5,
     "metadata": {},
     "output_type": "execute_result"
    }
   ],
   "source": [
    "var = \"Welcome to nettech india\"\n",
    "type(var)"
   ]
  },
  {
   "cell_type": "code",
   "execution_count": 6,
   "id": "c20d3a2f",
   "metadata": {},
   "outputs": [
    {
     "data": {
      "text/plain": [
       "list"
      ]
     },
     "execution_count": 6,
     "metadata": {},
     "output_type": "execute_result"
    }
   ],
   "source": [
    "# The python list is an ordered collection (also known ass a sequences)of elements.\n",
    "list = [\"apple\",\"banana\",\"cherry\"]\n",
    "type(list)"
   ]
  },
  {
   "cell_type": "code",
   "execution_count": 7,
   "id": "884716ed",
   "metadata": {},
   "outputs": [
    {
     "name": "stdout",
     "output_type": "stream",
     "text": [
      "<class 'tuple'>\n"
     ]
    }
   ],
   "source": [
    "#tuple are ordered collection of elements that are unchangeable \n",
    "tuple = (\"apple\",\"banana\",\"cherry\")\n",
    "print(type(tuple))"
   ]
  },
  {
   "cell_type": "code",
   "execution_count": 8,
   "id": "8c898e75",
   "metadata": {},
   "outputs": [
    {
     "data": {
      "text/plain": [
       "set"
      ]
     },
     "execution_count": 8,
     "metadata": {},
     "output_type": "execute_result"
    }
   ],
   "source": [
    "# set is an unordered collection of data items that are unique .\n",
    "set = {\"apple\", \"banana\",\"cherry\"}\n",
    "type(set)"
   ]
  },
  {
   "cell_type": "code",
   "execution_count": 9,
   "id": "b2ee5760",
   "metadata": {},
   "outputs": [
    {
     "name": "stdout",
     "output_type": "stream",
     "text": [
      "<class 'dict'>\n"
     ]
    }
   ],
   "source": [
    "# dictionary are unordered collection of unique value stored in (key-value) pairs.\n",
    "dictionary = {\"name\":\"sanvee\"}\n",
    "print(type(dictionary))"
   ]
  },
  {
   "cell_type": "code",
   "execution_count": 10,
   "id": "45c15da0",
   "metadata": {},
   "outputs": [
    {
     "name": "stdout",
     "output_type": "stream",
     "text": [
      "True\n"
     ]
    }
   ],
   "source": [
    "# to represent the boolean values (True and false) we use the bool data type.\n",
    "print(20>10)"
   ]
  },
  {
   "cell_type": "code",
   "execution_count": 12,
   "id": "02d71b69",
   "metadata": {},
   "outputs": [
    {
     "name": "stdout",
     "output_type": "stream",
     "text": [
      "True\n",
      "<class 'bool'>\n"
     ]
    }
   ],
   "source": [
    "x= 25\n",
    "y=20\n",
    "z=x>y\n",
    "print(z)\n",
    "print(type(z))"
   ]
  },
  {
   "cell_type": "code",
   "execution_count": 2,
   "id": "74b73d34",
   "metadata": {},
   "outputs": [
    {
     "name": "stdout",
     "output_type": "stream",
     "text": [
      "<class 'range'>\n"
     ]
    }
   ],
   "source": [
    "#The built in function of range() used to generate the a sequences of number from a start number.\n",
    "number = range(10,15,1)\n",
    "print(type(number))\n"
   ]
  },
  {
   "cell_type": "code",
   "execution_count": 3,
   "id": "5717fecf",
   "metadata": {},
   "outputs": [
    {
     "name": "stdout",
     "output_type": "stream",
     "text": [
      "<class 'range'>\n"
     ]
    }
   ],
   "source": [
    "number = range(10,15,1)\n",
    "print(type(number))"
   ]
  },
  {
   "cell_type": "code",
   "execution_count": null,
   "id": "39590694",
   "metadata": {},
   "outputs": [],
   "source": [
    "# Dynamic typing and static typing:\n",
    "In the python variables are the reserved memory location to store values. Python is a dynamically typed language which is not the required to mention the type of the varialble while the declaring.It performs the type checking the at run time .\n",
    "\n",
    "In statically typed programming languages which is required to mention the type of variables while declaring.it performed the type checking at compile time.\n"
   ]
  },
  {
   "cell_type": "code",
   "execution_count": 4,
   "id": "191faadb",
   "metadata": {},
   "outputs": [
    {
     "name": "stdout",
     "output_type": "stream",
     "text": [
      "Hello world\n"
     ]
    }
   ],
   "source": [
    "msg = \"Hello world\"\n",
    "print(msg)"
   ]
  },
  {
   "cell_type": "code",
   "execution_count": null,
   "id": "abdd8ed2",
   "metadata": {},
   "outputs": [],
   "source": [
    "# Input and output:\n",
    "until now the values of were define to the variables. In some cases user might want to input values to variables, which allows flexibility. "
   ]
  },
  {
   "cell_type": "code",
   "execution_count": null,
   "id": "24f4dc4a",
   "metadata": {},
   "outputs": [],
   "source": [
    "Python input()function to perform this."
   ]
  },
  {
   "cell_type": "code",
   "execution_count": 9,
   "id": "e94689fa",
   "metadata": {},
   "outputs": [
    {
     "name": "stdout",
     "output_type": "stream",
     "text": [
      "Enter the name : vaishnavi\n",
      "My name is vaishnavi\n"
     ]
    }
   ],
   "source": [
    "my_name = input(\"Enter the name : \")\n",
    "print(\"My name is\",my_name)"
   ]
  },
  {
   "cell_type": "code",
   "execution_count": 10,
   "id": "cd8cb94d",
   "metadata": {},
   "outputs": [
    {
     "name": "stdout",
     "output_type": "stream",
     "text": [
      "Enter the number :30\n",
      "Number is 30\n"
     ]
    }
   ],
   "source": [
    "my_number = input(\"Enter the number :\")\n",
    "print(\"Number is\",my_number)"
   ]
  },
  {
   "cell_type": "code",
   "execution_count": 11,
   "id": "e5b9da5a",
   "metadata": {},
   "outputs": [
    {
     "name": "stdout",
     "output_type": "stream",
     "text": [
      "<class 'str'>\n"
     ]
    }
   ],
   "source": [
    "print(type(my_number))"
   ]
  },
  {
   "cell_type": "code",
   "execution_count": null,
   "id": "4511695e",
   "metadata": {},
   "outputs": [],
   "source": [
    "# Operators :"
   ]
  },
  {
   "cell_type": "code",
   "execution_count": null,
   "id": "44d86a16",
   "metadata": {},
   "outputs": [],
   "source": [
    "Arithimantic Operator :\n",
    "    1.addition (+)\n",
    "    2.substraction(-)\n",
    "    3.multiplication(*)\n",
    "    4.division(/)\n",
    "    5.floor division(//)\n",
    "    6.modulus(%)\n",
    "    7.Exponent(**)"
   ]
  },
  {
   "cell_type": "code",
   "execution_count": 12,
   "id": "774aa017",
   "metadata": {},
   "outputs": [
    {
     "name": "stdout",
     "output_type": "stream",
     "text": [
      "5\n"
     ]
    }
   ],
   "source": [
    "#addition :\n",
    "a= 2\n",
    "b=3\n",
    "print(a+b)"
   ]
  },
  {
   "cell_type": "code",
   "execution_count": 13,
   "id": "ce98606a",
   "metadata": {},
   "outputs": [
    {
     "name": "stdout",
     "output_type": "stream",
     "text": [
      "5\n"
     ]
    }
   ],
   "source": [
    "#substraction:\n",
    "a=8\n",
    "b=3\n",
    "print(a-b)"
   ]
  },
  {
   "cell_type": "code",
   "execution_count": 14,
   "id": "6cc15076",
   "metadata": {},
   "outputs": [
    {
     "name": "stdout",
     "output_type": "stream",
     "text": [
      "18\n"
     ]
    }
   ],
   "source": [
    "# multiplication:\n",
    "a= 9\n",
    "b=2\n",
    "print(a*b)"
   ]
  },
  {
   "cell_type": "code",
   "execution_count": 15,
   "id": "29c7005e",
   "metadata": {},
   "outputs": [
    {
     "name": "stdout",
     "output_type": "stream",
     "text": [
      "2.5\n"
     ]
    }
   ],
   "source": [
    "# division:\n",
    "a=5\n",
    "b=2\n",
    "print(a/b)"
   ]
  },
  {
   "cell_type": "code",
   "execution_count": 16,
   "id": "b1e09c7c",
   "metadata": {},
   "outputs": [
    {
     "name": "stdout",
     "output_type": "stream",
     "text": [
      "2\n"
     ]
    }
   ],
   "source": [
    "# floor division:\n",
    "a=5\n",
    "b=2\n",
    "print(a//b)"
   ]
  },
  {
   "cell_type": "code",
   "execution_count": 17,
   "id": "65e66409",
   "metadata": {},
   "outputs": [
    {
     "name": "stdout",
     "output_type": "stream",
     "text": [
      "0\n"
     ]
    }
   ],
   "source": [
    "# modules:\n",
    "a=4\n",
    "b=2\n",
    "print(a%b)"
   ]
  },
  {
   "cell_type": "code",
   "execution_count": 19,
   "id": "06b3f840",
   "metadata": {},
   "outputs": [
    {
     "name": "stdout",
     "output_type": "stream",
     "text": [
      "8\n"
     ]
    }
   ],
   "source": [
    "# exponent:\n",
    "num = 2\n",
    "print(num**3)"
   ]
  },
  {
   "cell_type": "code",
   "execution_count": null,
   "id": "634d04ed",
   "metadata": {},
   "outputs": [],
   "source": [
    "# Relational operators:\n",
    "1.greater than (>)\n",
    "2.less than(<)\n",
    "3.Equal to(=)\n",
    "4.not equal to (!=)\n",
    "5.greater than equal to(>=)\n",
    "6.less than equal to(<=)\n"
   ]
  },
  {
   "cell_type": "code",
   "execution_count": 20,
   "id": "d75ed628",
   "metadata": {},
   "outputs": [
    {
     "name": "stdout",
     "output_type": "stream",
     "text": [
      "True\n",
      "False\n"
     ]
    }
   ],
   "source": [
    "x=10\n",
    "y=5\n",
    "print(x>y)\n",
    "print(x<y)"
   ]
  },
  {
   "cell_type": "code",
   "execution_count": 21,
   "id": "bddf36e3",
   "metadata": {},
   "outputs": [
    {
     "name": "stdout",
     "output_type": "stream",
     "text": [
      "False\n",
      "True\n"
     ]
    }
   ],
   "source": [
    "print(x==y)\n",
    "print(x==10)"
   ]
  },
  {
   "cell_type": "code",
   "execution_count": 22,
   "id": "6dad9001",
   "metadata": {},
   "outputs": [
    {
     "name": "stdout",
     "output_type": "stream",
     "text": [
      "True\n",
      "False\n"
     ]
    }
   ],
   "source": [
    "print(x!=y)\n",
    "print(10!=x)"
   ]
  },
  {
   "cell_type": "code",
   "execution_count": 23,
   "id": "ca45ef88",
   "metadata": {},
   "outputs": [
    {
     "name": "stdout",
     "output_type": "stream",
     "text": [
      "True\n",
      "False\n"
     ]
    }
   ],
   "source": [
    "print(x>=y)\n",
    "print(x<=y)"
   ]
  },
  {
   "cell_type": "code",
   "execution_count": null,
   "id": "8f3820ae",
   "metadata": {},
   "outputs": [],
   "source": [
    "# Assignment operators\n",
    "1.assign(=)\n",
    "2.add and assign(+=)\n",
    "3.sub and assign(-=)\n",
    "4.multi and assign(*=)\n",
    "5.division and assign(/=)\n",
    "6.floor division and assign(//=)\n",
    "7.modulus and assign(%=)\n",
    "8.exponent and assign(**=)"
   ]
  },
  {
   "cell_type": "code",
   "execution_count": 26,
   "id": "da0bacdd",
   "metadata": {},
   "outputs": [
    {
     "name": "stdout",
     "output_type": "stream",
     "text": [
      "6\n"
     ]
    }
   ],
   "source": [
    "a= 4\n",
    "b= 2\n",
    "a+=b\n",
    "print(a)"
   ]
  },
  {
   "cell_type": "code",
   "execution_count": 28,
   "id": "0a5412f8",
   "metadata": {},
   "outputs": [
    {
     "name": "stdout",
     "output_type": "stream",
     "text": [
      "1\n"
     ]
    }
   ],
   "source": [
    "a=2\n",
    "b=1\n",
    "a-=b\n",
    "print(a)"
   ]
  },
  {
   "cell_type": "code",
   "execution_count": 30,
   "id": "28d88024",
   "metadata": {},
   "outputs": [
    {
     "name": "stdout",
     "output_type": "stream",
     "text": [
      "24\n"
     ]
    }
   ],
   "source": [
    "a=8\n",
    "b=3\n",
    "a*=b\n",
    "print(a)"
   ]
  },
  {
   "cell_type": "code",
   "execution_count": 31,
   "id": "2b4c86df",
   "metadata": {},
   "outputs": [
    {
     "name": "stdout",
     "output_type": "stream",
     "text": [
      "2.0\n"
     ]
    }
   ],
   "source": [
    "a=4\n",
    "b=2\n",
    "a/=b\n",
    "print(a)"
   ]
  },
  {
   "cell_type": "code",
   "execution_count": 38,
   "id": "2169760d",
   "metadata": {},
   "outputs": [
    {
     "name": "stdout",
     "output_type": "stream",
     "text": [
      "1\n"
     ]
    }
   ],
   "source": [
    "a=3\n",
    "b=2\n",
    "a//=b\n",
    "print(a)"
   ]
  },
  {
   "cell_type": "code",
   "execution_count": 34,
   "id": "72e4dfde",
   "metadata": {},
   "outputs": [
    {
     "name": "stdout",
     "output_type": "stream",
     "text": [
      "0\n"
     ]
    }
   ],
   "source": [
    "a=6\n",
    "b=3\n",
    "a%=b\n",
    "print(a)"
   ]
  },
  {
   "cell_type": "code",
   "execution_count": 37,
   "id": "1f7f77ec",
   "metadata": {},
   "outputs": [
    {
     "name": "stdout",
     "output_type": "stream",
     "text": [
      "49\n"
     ]
    }
   ],
   "source": [
    "a=7\n",
    "b=2\n",
    "a**=b\n",
    "print(a)"
   ]
  },
  {
   "cell_type": "code",
   "execution_count": null,
   "id": "7633c9db",
   "metadata": {},
   "outputs": [],
   "source": [
    "# Logical operators:\n",
    "1. and: The logical and operators returns true if both expressions are True.\n",
    "2. or : The logical or the operators returns the a boolens true if one expression is true.\n",
    "3. not: the logical not operator return the true if the expression is false.    "
   ]
  },
  {
   "cell_type": "code",
   "execution_count": 39,
   "id": "d1e34904",
   "metadata": {},
   "outputs": [
    {
     "name": "stdout",
     "output_type": "stream",
     "text": [
      "True\n"
     ]
    }
   ],
   "source": [
    "x= 5\n",
    "print(x>3 and x<10)"
   ]
  },
  {
   "cell_type": "code",
   "execution_count": 40,
   "id": "beb40845",
   "metadata": {},
   "outputs": [
    {
     "name": "stdout",
     "output_type": "stream",
     "text": [
      "30\n",
      "5\n",
      "300\n"
     ]
    }
   ],
   "source": [
    "# In the arthimentic logical and always return the second value\n",
    "print(10 and 30)\n",
    "print(20 and 5)\n",
    "print(100 and 300)\n"
   ]
  },
  {
   "cell_type": "code",
   "execution_count": 41,
   "id": "9672994a",
   "metadata": {},
   "outputs": [
    {
     "name": "stdout",
     "output_type": "stream",
     "text": [
      "True\n"
     ]
    }
   ],
   "source": [
    "x= 5\n",
    "print(x>3 or x<4)"
   ]
  },
  {
   "cell_type": "code",
   "execution_count": 43,
   "id": "fa0c3dc9",
   "metadata": {},
   "outputs": [
    {
     "name": "stdout",
     "output_type": "stream",
     "text": [
      "10\n",
      "20\n",
      "100\n"
     ]
    }
   ],
   "source": [
    "# In the case arthimrntic values logical or always return the first values\n",
    "print(10 or 30)\n",
    "print(20 or 5)\n",
    "print(100 or 300)"
   ]
  },
  {
   "cell_type": "code",
   "execution_count": 44,
   "id": "1c8afabb",
   "metadata": {},
   "outputs": [
    {
     "name": "stdout",
     "output_type": "stream",
     "text": [
      "False\n"
     ]
    }
   ],
   "source": [
    "x = 5\n",
    "print(not(x>3))"
   ]
  },
  {
   "cell_type": "code",
   "execution_count": 45,
   "id": "5ce8db8e",
   "metadata": {},
   "outputs": [
    {
     "name": "stdout",
     "output_type": "stream",
     "text": [
      "False\n",
      "True\n"
     ]
    }
   ],
   "source": [
    "# In case of the arithimentic values, logical not always return false for nonzero values .\n",
    "print(not 10) # false. non-zero values \n",
    "print(not 0 ) # True.  non-zero values"
   ]
  },
  {
   "cell_type": "code",
   "execution_count": null,
   "id": "f9c87fe8",
   "metadata": {},
   "outputs": [],
   "source": [
    "# Membership operators:\n",
    "In python there are two membership operators in and not in"
   ]
  },
  {
   "cell_type": "code",
   "execution_count": 46,
   "id": "cf6a97be",
   "metadata": {},
   "outputs": [
    {
     "name": "stdout",
     "output_type": "stream",
     "text": [
      "True\n"
     ]
    }
   ],
   "source": [
    "# in operator\n",
    "x=[\"apple\",\"banana\"]\n",
    "print(\"banana\" in x)"
   ]
  },
  {
   "cell_type": "code",
   "execution_count": 47,
   "id": "a05b5788",
   "metadata": {},
   "outputs": [
    {
     "name": "stdout",
     "output_type": "stream",
     "text": [
      "True\n"
     ]
    }
   ],
   "source": [
    "# not in operator\n",
    "x=[\"apple\",\"banana\"]\n",
    "print(\"kiwi\" not in x)"
   ]
  },
  {
   "cell_type": "code",
   "execution_count": null,
   "id": "70572367",
   "metadata": {},
   "outputs": [],
   "source": [
    "# Identity operator\n",
    "use the identity operator to check whether the the values of two variables is the same or not.\n",
    "python has 2 operators is and is not."
   ]
  },
  {
   "cell_type": "code",
   "execution_count": 48,
   "id": "68c290ab",
   "metadata": {},
   "outputs": [
    {
     "name": "stdout",
     "output_type": "stream",
     "text": [
      "False\n",
      "True\n"
     ]
    }
   ],
   "source": [
    "# The operator return boolen True or false.\n",
    "x=10\n",
    "y=11\n",
    "z=10\n",
    "print(x is y)\n",
    "print(x is z)"
   ]
  },
  {
   "cell_type": "code",
   "execution_count": 49,
   "id": "14dceba2",
   "metadata": {},
   "outputs": [
    {
     "name": "stdout",
     "output_type": "stream",
     "text": [
      "True\n",
      "False\n"
     ]
    }
   ],
   "source": [
    "x=10\n",
    "y=11\n",
    "z=10\n",
    "print(x is not y)\n",
    "print(x is not z)"
   ]
  },
  {
   "cell_type": "code",
   "execution_count": null,
   "id": "c6135e37",
   "metadata": {},
   "outputs": [],
   "source": [
    "# Bitwise operator\n",
    "1.& Bitwise and \n",
    "2.| Bitwise or\n",
    "3.^ Bitwise xor\n",
    "\n",
    "In a python ,bitwise operators are used to perforeming bitwise operations on intergers.\n",
    "To perform bitwise we first need to convert interger value to binary (0 and 1) value.\n"
   ]
  },
  {
   "cell_type": "code",
   "execution_count": 51,
   "id": "86deb5eb",
   "metadata": {},
   "outputs": [
    {
     "name": "stdout",
     "output_type": "stream",
     "text": [
      "4\n",
      "5\n",
      "4\n"
     ]
    }
   ],
   "source": [
    "# AND \n",
    "a=7\n",
    "b=4\n",
    "c=5\n",
    "print(a&b)\n",
    "print(a&c)\n",
    "print(b&c)"
   ]
  },
  {
   "cell_type": "code",
   "execution_count": 53,
   "id": "c19cf06a",
   "metadata": {},
   "outputs": [
    {
     "name": "stdout",
     "output_type": "stream",
     "text": [
      "10\n",
      "10\n",
      "2\n"
     ]
    }
   ],
   "source": [
    "# OR\n",
    "a=10\n",
    "b=2\n",
    "c=2\n",
    "print(a|b)\n",
    "print(a|c)\n",
    "print(b|c)"
   ]
  },
  {
   "cell_type": "code",
   "execution_count": 54,
   "id": "81709b65",
   "metadata": {},
   "outputs": [
    {
     "name": "stdout",
     "output_type": "stream",
     "text": [
      "8\n",
      "8\n",
      "0\n"
     ]
    }
   ],
   "source": [
    "a=10\n",
    "b=2\n",
    "c=2\n",
    "print(a^b)\n",
    "print(a^c)\n",
    "print(b^c)"
   ]
  }
 ],
 "metadata": {
  "kernelspec": {
   "display_name": "Python 3 (ipykernel)",
   "language": "python",
   "name": "python3"
  },
  "language_info": {
   "codemirror_mode": {
    "name": "ipython",
    "version": 3
   },
   "file_extension": ".py",
   "mimetype": "text/x-python",
   "name": "python",
   "nbconvert_exporter": "python",
   "pygments_lexer": "ipython3",
   "version": "3.9.7"
  }
 },
 "nbformat": 4,
 "nbformat_minor": 5
}
