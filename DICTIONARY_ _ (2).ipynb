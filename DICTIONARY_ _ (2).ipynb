{
 "cells": [
  {
   "cell_type": "code",
   "execution_count": null,
   "id": "65de8dae",
   "metadata": {},
   "outputs": [],
   "source": [
    "Dictionaries are unordered collection of uniquie values stored in (key-value)pairs.\n",
    "onces stored in dictionary, you can later obtain the value using just the key.\n",
    "\n",
    "\n",
    "For example, consider the phone lookup where it is very easy and fast to find the phone number (value ) where\n",
    "we know the name (key) associated with it.\n",
    "\n",
    "characteriestic of python:\n",
    "    1. unordered \n",
    "    2.unique\n",
    "    3. mutable\n",
    "\n",
    "creating a dictionary\n",
    "1.using curly{}bracket\n",
    "2.using dict()constructor"
   ]
  },
  {
   "cell_type": "code",
   "execution_count": 1,
   "id": "0595722e",
   "metadata": {},
   "outputs": [
    {
     "name": "stdout",
     "output_type": "stream",
     "text": [
      "{'name': 'vaishnavi', 'contury': 'india', 'telephone': 1178}\n",
      "{'name': 'vaishnavi', 'contury': 'india', 'telephone': 1178}\n",
      "{'name': 'sanvee', 10: 'mobile'}\n"
     ]
    }
   ],
   "source": [
    "# created a dictionary using {}\n",
    "person = {\"name\":\"vaishnavi\", \"contury\":\"india\", \"telephone\":1178}\n",
    "print(person)\n",
    "\n",
    "#create a dictionary using dict()\n",
    "person1=dict({\"name\":\"vaishnavi\",\"country\":\"india\",\"telephone\":1178})\n",
    "\n",
    "#create a dictionary from sequence having each item ass a pair\n",
    "person2 = dict([(\"name\",\"vaishnavi\"),(\"country\",\"india\"),(\"telephone\",1178)])\n",
    "print(person)\n",
    "\n",
    "#create dictionary with mixed keys \n",
    "# first key is string and second is an integer\n",
    "sample_dict = {\"name\":\"sanvee\",10:\"mobile\"}\n",
    "print(sample_dict)"
   ]
  },
  {
   "cell_type": "code",
   "execution_count": 2,
   "id": "66ba65aa",
   "metadata": {},
   "outputs": [
    {
     "name": "stdout",
     "output_type": "stream",
     "text": [
      "<class 'dict'>\n"
     ]
    }
   ],
   "source": [
    "emptydict = {}\n",
    "print(type(emptydict))"
   ]
  },
  {
   "cell_type": "code",
   "execution_count": 5,
   "id": "ae8c3e31",
   "metadata": {},
   "outputs": [
    {
     "name": "stdout",
     "output_type": "stream",
     "text": [
      "{'name': 'vaishnavi', 'country': 'india', 'telephone': 1234}\n"
     ]
    }
   ],
   "source": [
    "# Dictionaries  cannot have two items with the same key:\n",
    "person = {\"name\":\"vaishnavi\",\"country\":\"india\",\"telephone\":1178,\"telephone\":1234}\n",
    "print(person)"
   ]
  },
  {
   "cell_type": "code",
   "execution_count": 4,
   "id": "e783d57c",
   "metadata": {},
   "outputs": [
    {
     "name": "stdout",
     "output_type": "stream",
     "text": [
      "{'name': 'sanvee', 'country': 'india', 'telephone': [1178, 1234]}\n"
     ]
    }
   ],
   "source": [
    "person = {\"name\": \"sanvee\",\"country\":\"india\",\"telephone\":[1178,1234]}\n",
    "print(person)"
   ]
  },
  {
   "cell_type": "code",
   "execution_count": null,
   "id": "60f42391",
   "metadata": {},
   "outputs": [],
   "source": [
    "# Accesssing elements of dictionary "
   ]
  },
  {
   "cell_type": "code",
   "execution_count": 6,
   "id": "c62fdbe5",
   "metadata": {},
   "outputs": [
    {
     "name": "stdout",
     "output_type": "stream",
     "text": [
      "vaishnavi\n",
      "1178\n"
     ]
    }
   ],
   "source": [
    "person ={\"name\":\"vaishnavi\",\"country\":\"india\",\"telephone\":1178}\n",
    "#access value using key name in[]\n",
    "print(person['name'])\n",
    "#get key value using key name in get()\n",
    "print(person.get('telephone'))"
   ]
  },
  {
   "cell_type": "code",
   "execution_count": 10,
   "id": "23772529",
   "metadata": {},
   "outputs": [
    {
     "name": "stdout",
     "output_type": "stream",
     "text": [
      "dict_keys(['name', 'country', 'telephone'])\n",
      "<class 'dict_keys'>\n",
      "dict_values(['vaishnavi', 'india', 1178])\n",
      "<class 'dict_values'>\n",
      "dict_items([('name', 'vaishnavi'), ('country', 'india'), ('telephone', 1178)])\n",
      "<class 'dict_items'>\n"
     ]
    }
   ],
   "source": [
    "# Get all keys\n",
    "print(person.keys())\n",
    "print(type(person.keys()))\n",
    "\n",
    "#Get all values\n",
    "print(person.values())\n",
    "print(type(person.values()))\n",
    "\n",
    "# Get all keys-value pair\n",
    "print(person.items())\n",
    "print(type(person.items()))"
   ]
  },
  {
   "cell_type": "code",
   "execution_count": 11,
   "id": "69460cf6",
   "metadata": {},
   "outputs": [
    {
     "name": "stdout",
     "output_type": "stream",
     "text": [
      "3\n"
     ]
    }
   ],
   "source": [
    "#length of dictionary\n",
    "print(len(person))"
   ]
  },
  {
   "cell_type": "code",
   "execution_count": null,
   "id": "749e0233",
   "metadata": {},
   "outputs": [],
   "source": [
    "Adding items to the dictionary"
   ]
  },
  {
   "cell_type": "code",
   "execution_count": 12,
   "id": "fd5ca485",
   "metadata": {},
   "outputs": [
    {
     "name": "stdout",
     "output_type": "stream",
     "text": [
      "{'name': 'sanvee', 'country': 'india', 'telephone': 1178, 'weight': 50, 'height': 5.4}\n"
     ]
    }
   ],
   "source": [
    "# lets see how to add two new keys to the dictionary\n",
    "person = {\"name\":\"sanvee\",\"country\":\"india\",\"telephone\":1178}\n",
    "\n",
    "#update dictionary by adding 2 new keys\n",
    "person[\"weight\"] = 50\n",
    "person.update({\"height\":5.4})\n",
    "\n",
    "#print the update dictionary\n",
    "print(person)"
   ]
  },
  {
   "cell_type": "code",
   "execution_count": 1,
   "id": "2809e3d6",
   "metadata": {},
   "outputs": [
    {
     "name": "stdout",
     "output_type": "stream",
     "text": [
      "{'name': 'sanvee', 'country': 'india', 'city': 'mumbai', 'company': 'Nettech India'}\n"
     ]
    }
   ],
   "source": [
    "# we can also add more  than one key using the update() method.\n",
    "person = {\"name\":\"sanvee\",\"country\":\"india\"}\n",
    "\n",
    "# adding 2 new keys at once \n",
    "# pass new keys as dict\n",
    "person.update ([(\"city\",\"mumbai\"),(\"company\",\"Nettech India\")])\n",
    "#print the update dictionary\n",
    "print(person)"
   ]
  },
  {
   "cell_type": "code",
   "execution_count": 2,
   "id": "63789ad9",
   "metadata": {},
   "outputs": [
    {
     "name": "stdout",
     "output_type": "stream",
     "text": [
      "{'sanvee': 70, 'komal': 40, 'shreya': 50, 'prathm': 50, 'knunal': 60, 'siddhesh': 90}\n"
     ]
    }
   ],
   "source": [
    "dict1={'sanvee':70,'komal':40,'shreya':50}\n",
    "dict2 ={'prathm':50,'knunal':60,'siddhesh':90}\n",
    "#copy second dictionary into first dictionary\n",
    "dict1.update (dict2)\n",
    "#printing the update dictionary \n",
    "print(dict1)"
   ]
  },
  {
   "cell_type": "code",
   "execution_count": 5,
   "id": "21e6a13e",
   "metadata": {},
   "outputs": [
    {
     "name": "stdout",
     "output_type": "stream",
     "text": [
      "{'arnav': 1, 'ashi': 2, 'yash': 4, 'rudra': 5, 'vini': 6, 'simi': 6}\n"
     ]
    }
   ],
   "source": [
    "student_dict1 = {'arnav': 1 , 'ashi': 2}\n",
    "student_dict2 = {'yash': 4 ,'rudra': 5}\n",
    "student_dict3 ={'vini': 6 ,'simi': 6}\n",
    "# join three dictionaries\n",
    "student_dict = {**student_dict1,**student_dict2,**student_dict3}\n",
    "#printing the final merge dictionary\n",
    "print(student_dict)"
   ]
  },
  {
   "cell_type": "code",
   "execution_count": 6,
   "id": "51a0b7d8",
   "metadata": {},
   "outputs": [
    {
     "name": "stdout",
     "output_type": "stream",
     "text": [
      "{'arsh': 3, 'arnav': 5, 'yash': 5, 'rudra': 6, 'vini': 8, 'simi': 9}\n"
     ]
    }
   ],
   "source": [
    "# we can unpack any number of dictionary and add their content to another dictionary using \n",
    "student_dict1 = {'arsh':3 , 'arnav':5}\n",
    "student_dict2 = {'yash':5, 'rudra':6}\n",
    "student_dict3 = {'vini':8, 'simi':9}\n",
    "\n",
    "#join three dictionaries \n",
    "student_dict = {**student_dict1,**student_dict2,**student_dict3}\n",
    "#printing the final merge dictionary\n",
    "print(student_dict)"
   ]
  },
  {
   "cell_type": "code",
   "execution_count": null,
   "id": "244635a3",
   "metadata": {},
   "outputs": [],
   "source": [
    "#Modify the value of the dictionary keys"
   ]
  },
  {
   "cell_type": "code",
   "execution_count": 7,
   "id": "6521c353",
   "metadata": {},
   "outputs": [
    {
     "name": "stdout",
     "output_type": "stream",
     "text": [
      "{'name': 'vaishnavi', 'country': 'india'}\n",
      "USA\n",
      "{'name': 'vaishnavi', 'country': 'USA'}\n",
      "{'name': 'vaishnavi', 'country': 'canada'}\n"
     ]
    }
   ],
   "source": [
    "person ={\"name\":\"vaishnavi\",\"country\":\"india\"}\n",
    "print(person)\n",
    "#updating the country name\n",
    "person [\"country\"]=\"USA\"\n",
    "#print the update country\n",
    "print(person['country'])\n",
    "print(person)\n",
    "\n",
    "#update the country nmae using update () method\n",
    "person.update ({\"country\":\"canada\"})\n",
    "#print(person['country'])\n",
    "print(person)\n",
    "             \n",
    "             "
   ]
  },
  {
   "cell_type": "code",
   "execution_count": null,
   "id": "6cc5e0ff",
   "metadata": {},
   "outputs": [],
   "source": [
    "#Removing items from the dictionary"
   ]
  },
  {
   "cell_type": "code",
   "execution_count": 3,
   "id": "584132b7",
   "metadata": {},
   "outputs": [
    {
     "name": "stdout",
     "output_type": "stream",
     "text": [
      "1178\n",
      "{'name': 'vaishnavi', 'country': 'india', 'weight': 50, 'height': 4.8}\n"
     ]
    }
   ],
   "source": [
    "person = {'name':'vaishnavi','country':'india','telephone':1178,'weight':50,'height':4.8}\n",
    "#remove key 'telephone ' from the dictornary\n",
    "deleted_item = person.pop('telephone')\n",
    "print(deleted_item)\n",
    "#display update dictionary\n",
    "print(person)\n"
   ]
  },
  {
   "cell_type": "code",
   "execution_count": 4,
   "id": "8e20dd45",
   "metadata": {},
   "outputs": [
    {
     "name": "stdout",
     "output_type": "stream",
     "text": [
      "('height', 4.8)\n",
      "{'name': 'vaishnavi', 'country': 'india', 'telephone': 1178, 'weight': 50}\n"
     ]
    }
   ],
   "source": [
    "person = {'name':'vaishnavi','country':'india','telephone':1178,'weight':50,'height':4.8}\n",
    "#remove last insert item from the dictornary\n",
    "deleted_item = person.popitem()\n",
    "print(deleted_item)\n",
    "#display update dictionary\n",
    "print(person)\n"
   ]
  },
  {
   "cell_type": "code",
   "execution_count": 5,
   "id": "b317a3be",
   "metadata": {},
   "outputs": [
    {
     "name": "stdout",
     "output_type": "stream",
     "text": [
      "{'name': 'vaishnavi', 'country': 'india', 'telephone': 1178}\n"
     ]
    }
   ],
   "source": [
    "# delete key 'weight'\n",
    "del person ['weight']\n",
    "#display update dictionary\n",
    "print(person)"
   ]
  },
  {
   "cell_type": "code",
   "execution_count": 6,
   "id": "a32c75d9",
   "metadata": {},
   "outputs": [
    {
     "name": "stdout",
     "output_type": "stream",
     "text": [
      "{}\n"
     ]
    }
   ],
   "source": [
    "#remove all item (key-value)from dict\n",
    "person.clear()\n",
    "#diplay update dictinary\n",
    "print(person) #{}\n"
   ]
  },
  {
   "cell_type": "code",
   "execution_count": 7,
   "id": "7889d84c",
   "metadata": {},
   "outputs": [],
   "source": [
    "person = {'name':'vaishnavi','country':'india','telephone':1178,'weight':50,'height':4.8}\n",
    "#delete the entire dictionary\n",
    "del person"
   ]
  },
  {
   "cell_type": "code",
   "execution_count": 8,
   "id": "890df479",
   "metadata": {},
   "outputs": [
    {
     "ename": "NameError",
     "evalue": "name 'person' is not defined",
     "output_type": "error",
     "traceback": [
      "\u001b[1;31m---------------------------------------------------------------------------\u001b[0m",
      "\u001b[1;31mNameError\u001b[0m                                 Traceback (most recent call last)",
      "\u001b[1;32m~\\AppData\\Local\\Temp/ipykernel_9908/4147899475.py\u001b[0m in \u001b[0;36m<module>\u001b[1;34m\u001b[0m\n\u001b[1;32m----> 1\u001b[1;33m \u001b[0mprint\u001b[0m\u001b[1;33m(\u001b[0m\u001b[0mperson\u001b[0m\u001b[1;33m)\u001b[0m\u001b[1;33m\u001b[0m\u001b[1;33m\u001b[0m\u001b[0m\n\u001b[0m",
      "\u001b[1;31mNameError\u001b[0m: name 'person' is not defined"
     ]
    }
   ],
   "source": [
    "print(person)"
   ]
  },
  {
   "cell_type": "code",
   "execution_count": 9,
   "id": "666f514c",
   "metadata": {},
   "outputs": [
    {
     "name": "stdout",
     "output_type": "stream",
     "text": [
      "{'sanvee': 67, 'vaishnavi': 89}\n"
     ]
    }
   ],
   "source": [
    "#copy a dictionary\n",
    "dict1={'sanvee':67,'vaishnavi':89}\n",
    "\n",
    "#copy dictionary using copy()method\n",
    "dict2 = dict1.copy()\n",
    "#printing the new dictionary\n",
    "print(dict2)"
   ]
  },
  {
   "cell_type": "code",
   "execution_count": 10,
   "id": "b7569c9c",
   "metadata": {},
   "outputs": [
    {
     "name": "stdout",
     "output_type": "stream",
     "text": [
      "{'sanvee': 67, 'vaishnavi': 89}\n"
     ]
    }
   ],
   "source": [
    "dict1={'sanvee':67,'vaishnavi':89}\n",
    "#copy dictionary using assignment = operator \n",
    "dict2=dict1\n",
    "print(dict2)"
   ]
  },
  {
   "cell_type": "raw",
   "id": "01ff8d96",
   "metadata": {},
   "source": [
    "dict2.update({'vaishmavi':97})\n",
    "print(dict2)\n",
    "print(dict1)"
   ]
  },
  {
   "cell_type": "code",
   "execution_count": null,
   "id": "d8652bda",
   "metadata": {},
   "outputs": [],
   "source": [
    "# sort dictionary"
   ]
  },
  {
   "cell_type": "code",
   "execution_count": 12,
   "id": "cbef291c",
   "metadata": {},
   "outputs": [
    {
     "name": "stdout",
     "output_type": "stream",
     "text": [
      "[('sanvee', 67), ('vaishmavi', 97), ('vaishnavi', 89)]\n",
      "['sanvee', 'vaishmavi', 'vaishnavi']\n",
      "[67, 89, 97]\n"
     ]
    }
   ],
   "source": [
    "dict = {'c':45,'b':95,'a':48}\n",
    "#sorting dictionary by keys\n",
    "print(sorted(dict1.items()))\n",
    "\n",
    "#sort dict eys\n",
    "print(sorted(dict1))\n",
    "\n",
    "#sort dictionary values\n",
    "print(sorted(dict1.values()))"
   ]
  },
  {
   "cell_type": "code",
   "execution_count": null,
   "id": "7efb59fd",
   "metadata": {},
   "outputs": [],
   "source": [
    "# python built-in function with dictionary"
   ]
  },
  {
   "cell_type": "code",
   "execution_count": null,
   "id": "13084dc5",
   "metadata": {},
   "outputs": [],
   "source": [
    "max()and min()"
   ]
  },
  {
   "cell_type": "code",
   "execution_count": 13,
   "id": "821080ec",
   "metadata": {},
   "outputs": [
    {
     "name": "stdout",
     "output_type": "stream",
     "text": [
      "maxmum key 3\n",
      "minimum key 1\n"
     ]
    }
   ],
   "source": [
    "dict = {1:'aaa',2:'bbb',3:'AAA'}\n",
    "print(\"maxmum key\",max(dict))  #\n",
    "print(\"minimum key\",min(dict)) #"
   ]
  },
  {
   "cell_type": "code",
   "execution_count": null,
   "id": "bcb2fa4d",
   "metadata": {},
   "outputs": [],
   "source": []
  }
 ],
 "metadata": {
  "kernelspec": {
   "display_name": "Python 3 (ipykernel)",
   "language": "python",
   "name": "python3"
  },
  "language_info": {
   "codemirror_mode": {
    "name": "ipython",
    "version": 3
   },
   "file_extension": ".py",
   "mimetype": "text/x-python",
   "name": "python",
   "nbconvert_exporter": "python",
   "pygments_lexer": "ipython3",
   "version": "3.9.7"
  }
 },
 "nbformat": 4,
 "nbformat_minor": 5
}
