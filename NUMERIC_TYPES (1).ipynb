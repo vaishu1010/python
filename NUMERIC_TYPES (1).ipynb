{
 "cells": [
  {
   "cell_type": "code",
   "execution_count": null,
   "id": "a42f2880",
   "metadata": {},
   "outputs": [],
   "source": [
    "# The numeric data in python is generally in three formats namely ineteger,Float and complex.\n",
    "  We can create an integer variable using the two ways:\n",
    "    1. Directly assigning an integer value to a variables \n",
    "    2. Using a int()class\n",
    "    "
   ]
  },
  {
   "cell_type": "code",
   "execution_count": 2,
   "id": "39c6f8ef",
   "metadata": {},
   "outputs": [
    {
     "name": "stdout",
     "output_type": "stream",
     "text": [
      "Roll number is : 33\n",
      "<class 'int'>\n",
      "25\n",
      "<class 'int'>\n"
     ]
    }
   ],
   "source": [
    "roll_no = 33\n",
    "# display roll no\n",
    "print(\"Roll number is :\",roll_no)  #33\n",
    "print(type(roll_no))  #class'int'\n",
    "\n",
    "# create integer using int()class\n",
    "id = int(25)\n",
    "print(id) #25\n",
    "print(type(id))"
   ]
  },
  {
   "cell_type": "code",
   "execution_count": 3,
   "id": "1f083f0c",
   "metadata": {},
   "outputs": [
    {
     "name": "stdout",
     "output_type": "stream",
     "text": [
      "<class 'int'>\n",
      "<class 'float'>\n"
     ]
    }
   ],
   "source": [
    "# data type \n",
    "x=9999\n",
    "y=99.99\n",
    "print(type(x))\n",
    "print(type(y))"
   ]
  },
  {
   "cell_type": "code",
   "execution_count": 4,
   "id": "52206572",
   "metadata": {},
   "outputs": [
    {
     "data": {
      "text/plain": [
       "(1+0j)"
      ]
     },
     "execution_count": 4,
     "metadata": {},
     "output_type": "execute_result"
    }
   ],
   "source": [
    "# A python complex number is one having a real and imaginary parts.\n",
    "# python provides a separete modules called catch with the functions,especially for these complex\n",
    "complex(1)"
   ]
  },
  {
   "cell_type": "code",
   "execution_count": 5,
   "id": "abda5003",
   "metadata": {},
   "outputs": [
    {
     "data": {
      "text/plain": [
       "(1-2j)"
      ]
     },
     "execution_count": 5,
     "metadata": {},
     "output_type": "execute_result"
    }
   ],
   "source": [
    "complex(1,-2)"
   ]
  },
  {
   "cell_type": "code",
   "execution_count": 7,
   "id": "dd215af0",
   "metadata": {},
   "outputs": [
    {
     "name": "stdout",
     "output_type": "stream",
     "text": [
      "1.0\n",
      "2\n",
      "(1+0j)\n",
      "<class 'float'>\n",
      "<class 'int'>\n",
      "<class 'complex'>\n"
     ]
    }
   ],
   "source": [
    "x = 1 #int\n",
    "y = 2.8 # float\n",
    "z = 1j # complex\n",
    "\n",
    "# convert from the int to float:\n",
    "a = float(x)\n",
    "\n",
    "# convert from the float to int:\n",
    "b = int(y)\n",
    "\n",
    "# convert from the int to complex:\n",
    "c = complex(x)\n",
    "\n",
    "print(a)\n",
    "print(b)\n",
    "print(c)\n",
    "\n",
    "\n",
    "print(type(a))\n",
    "print(type(b))\n",
    "print(type(c))\n"
   ]
  },
  {
   "cell_type": "code",
   "execution_count": null,
   "id": "dfe4badc",
   "metadata": {},
   "outputs": [],
   "source": [
    "Decimal  uses ten digits ,binary uses two digits,and hexadecimal uses sixteen digits since we only have the ten digits from the decimal to system to use ,we subtitutes leters for everything above the number nine.\n",
    "therefore the digits in hexadecimal  are 0,1,2,3,4,5,6,7,8,9,A,B,C,D,E and F. They represent zero through nine.then A is worth ten .B is worth eleven ,D is worth thirtheen ,E is fourteen and F is  wrap up with the value of fitheen .so there are sixteen digits in hexadecimal.\n",
    "\n",
    "The eight digits of octal are 0,1,2,3,4,5,6,7.\n",
    "\n"
   ]
  },
  {
   "cell_type": "code",
   "execution_count": 1,
   "id": "d3685038",
   "metadata": {},
   "outputs": [
    {
     "name": "stdout",
     "output_type": "stream",
     "text": [
      "in binary form:: 0b10100\n",
      "in octal form:: 0o24\n",
      "in hexa decimal form:: 0x14\n"
     ]
    }
   ],
   "source": [
    "i=20\n",
    "print(\"in binary form::\",bin(i))\n",
    "print(\"in octal form::\",oct(i))\n",
    "print(\"in hexa decimal form::\",hex(i))"
   ]
  },
  {
   "cell_type": "code",
   "execution_count": null,
   "id": "66b486af",
   "metadata": {},
   "outputs": [],
   "source": [
    "## type casting\n",
    "\n",
    "implicit type compatible data types are in general two numeric data types like int and float. it will convert the smaller data type to larger one to prevent any data loss.\n",
    "for eg: int data be will be converted to float."
   ]
  },
  {
   "cell_type": "code",
   "execution_count": 1,
   "id": "66b6b0ce",
   "metadata": {},
   "outputs": [
    {
     "name": "stdout",
     "output_type": "stream",
     "text": [
      "<class 'int'>\n",
      "<class 'float'>\n",
      "<class 'float'>\n"
     ]
    }
   ],
   "source": [
    "x = 99\n",
    "y = 1.1111\n",
    "\n",
    "#data in int and float \n",
    "print(type(x))\n",
    "print(type(y))\n",
    "\n",
    "#addition\n",
    "z=x+y\n",
    "# type after the addition\n",
    "print(type(z))"
   ]
  },
  {
   "cell_type": "code",
   "execution_count": null,
   "id": "3b69c174",
   "metadata": {},
   "outputs": [],
   "source": [
    "# Explicit typw conversion: In explicit conversion, user convert the data type of an object to the required data type."
   ]
  },
  {
   "cell_type": "code",
   "execution_count": 2,
   "id": "0c8a1467",
   "metadata": {},
   "outputs": [
    {
     "data": {
      "text/plain": [
       "123"
      ]
     },
     "execution_count": 2,
     "metadata": {},
     "output_type": "execute_result"
    }
   ],
   "source": [
    "int(123.565)"
   ]
  },
  {
   "cell_type": "code",
   "execution_count": 3,
   "id": "04753507",
   "metadata": {},
   "outputs": [
    {
     "data": {
      "text/plain": [
       "10"
      ]
     },
     "execution_count": 3,
     "metadata": {},
     "output_type": "execute_result"
    }
   ],
   "source": [
    " int(\"10\")"
   ]
  },
  {
   "cell_type": "code",
   "execution_count": 4,
   "id": "93afac30",
   "metadata": {},
   "outputs": [
    {
     "ename": "ValueError",
     "evalue": "invalid literal for int() with base 10: '10.4'",
     "output_type": "error",
     "traceback": [
      "\u001b[1;31m---------------------------------------------------------------------------\u001b[0m",
      "\u001b[1;31mValueError\u001b[0m                                Traceback (most recent call last)",
      "\u001b[1;32m~\\AppData\\Local\\Temp/ipykernel_14552/176064348.py\u001b[0m in \u001b[0;36m<module>\u001b[1;34m\u001b[0m\n\u001b[1;32m----> 1\u001b[1;33m \u001b[0mint\u001b[0m\u001b[1;33m(\u001b[0m\u001b[1;34m\"10.4\"\u001b[0m\u001b[1;33m)\u001b[0m\u001b[1;33m\u001b[0m\u001b[1;33m\u001b[0m\u001b[0m\n\u001b[0m",
      "\u001b[1;31mValueError\u001b[0m: invalid literal for int() with base 10: '10.4'"
     ]
    }
   ],
   "source": [
    "int(\"10.4\")"
   ]
  },
  {
   "cell_type": "code",
   "execution_count": 5,
   "id": "05d7aec2",
   "metadata": {},
   "outputs": [
    {
     "ename": "ValueError",
     "evalue": "invalid literal for int() with base 10: 'ten'",
     "output_type": "error",
     "traceback": [
      "\u001b[1;31m---------------------------------------------------------------------------\u001b[0m",
      "\u001b[1;31mValueError\u001b[0m                                Traceback (most recent call last)",
      "\u001b[1;32m~\\AppData\\Local\\Temp/ipykernel_14552/1877291328.py\u001b[0m in \u001b[0;36m<module>\u001b[1;34m\u001b[0m\n\u001b[1;32m----> 1\u001b[1;33m \u001b[0mint\u001b[0m\u001b[1;33m(\u001b[0m\u001b[1;34m\"ten\"\u001b[0m\u001b[1;33m)\u001b[0m\u001b[1;33m\u001b[0m\u001b[1;33m\u001b[0m\u001b[0m\n\u001b[0m",
      "\u001b[1;31mValueError\u001b[0m: invalid literal for int() with base 10: 'ten'"
     ]
    }
   ],
   "source": [
    "int(\"ten\")"
   ]
  },
  {
   "cell_type": "code",
   "execution_count": 6,
   "id": "0f9ecaed",
   "metadata": {},
   "outputs": [
    {
     "name": "stdout",
     "output_type": "stream",
     "text": [
      "apple99\n"
     ]
    }
   ],
   "source": [
    "# concatenating int and str types\n",
    "i = 99\n",
    "s = \"apple\"\n",
    "print(s+str(i))"
   ]
  },
  {
   "cell_type": "code",
   "execution_count": null,
   "id": "f1109882",
   "metadata": {},
   "outputs": [],
   "source": [
    "# python define a set of function that are used to generate or manipulate random numbers through  the random module."
   ]
  },
  {
   "cell_type": "code",
   "execution_count": 7,
   "id": "33f663bd",
   "metadata": {},
   "outputs": [
    {
     "name": "stdout",
     "output_type": "stream",
     "text": [
      "5\n"
     ]
    }
   ],
   "source": [
    "import random\n",
    "#prints a random value form the list \n",
    "list1 =  [1,2,3,4,5,6]\n",
    "print(random.choice(list1))"
   ]
  },
  {
   "cell_type": "code",
   "execution_count": 11,
   "id": "fb8ce95b",
   "metadata": {},
   "outputs": [
    {
     "name": "stdout",
     "output_type": "stream",
     "text": [
      "A random from list is : 3\n"
     ]
    }
   ],
   "source": [
    "import random\n",
    "\n",
    "# using choice()to generate a random number from a \n",
    "#given list of numbers.\n",
    "print(\"A random from list is : \",end=\"\")\n",
    "print(random.choice([1,3,4,6,8]))"
   ]
  },
  {
   "cell_type": "code",
   "execution_count": 12,
   "id": "5de680b9",
   "metadata": {},
   "outputs": [
    {
     "name": "stdout",
     "output_type": "stream",
     "text": [
      "A random number form range is :3\n"
     ]
    }
   ],
   "source": [
    "print(\"A random number form range is :\",end=\"\")\n",
    "print(random.choice([20,30,3]))"
   ]
  },
  {
   "cell_type": "code",
   "execution_count": null,
   "id": "11b4ebcd",
   "metadata": {},
   "outputs": [],
   "source": []
  }
 ],
 "metadata": {
  "kernelspec": {
   "display_name": "Python 3 (ipykernel)",
   "language": "python",
   "name": "python3"
  },
  "language_info": {
   "codemirror_mode": {
    "name": "ipython",
    "version": 3
   },
   "file_extension": ".py",
   "mimetype": "text/x-python",
   "name": "python",
   "nbconvert_exporter": "python",
   "pygments_lexer": "ipython3",
   "version": "3.9.7"
  }
 },
 "nbformat": 4,
 "nbformat_minor": 5
}
