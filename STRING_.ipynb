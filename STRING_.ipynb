{
 "cells": [
  {
   "cell_type": "code",
   "execution_count": null,
   "id": "f1667726",
   "metadata": {},
   "outputs": [],
   "source": [
    "# strings in python are surround by either single quotation marks, or double qoution marks.\n",
    "In python ,string is an immutable sequences data type."
   ]
  },
  {
   "cell_type": "code",
   "execution_count": 1,
   "id": "1bad4ad8",
   "metadata": {},
   "outputs": [
    {
     "name": "stdout",
     "output_type": "stream",
     "text": [
      "This is a string in python\n"
     ]
    }
   ],
   "source": [
    "str1='This is a string in python'\n",
    "print(str1)"
   ]
  },
  {
   "cell_type": "code",
   "execution_count": 2,
   "id": "05aeae8f",
   "metadata": {},
   "outputs": [
    {
     "name": "stdout",
     "output_type": "stream",
     "text": [
      "This is a string in python\n"
     ]
    }
   ],
   "source": [
    "str2='This is a string in python'\n",
    "print(str2)"
   ]
  },
  {
   "cell_type": "code",
   "execution_count": 3,
   "id": "a0bc7e93",
   "metadata": {},
   "outputs": [
    {
     "name": "stdout",
     "output_type": "stream",
     "text": [
      "This is\n",
      "the first\n",
      "multi-line string.\n",
      "\n"
     ]
    }
   ],
   "source": [
    "# Multi-line strings must be embed be triple qoutes as shown below.\n",
    "str1='''This is\n",
    "the first\n",
    "multi-line string.\n",
    "'''\n",
    "print(str1)"
   ]
  },
  {
   "cell_type": "code",
   "execution_count": 4,
   "id": "ab327692",
   "metadata": {},
   "outputs": [
    {
     "name": "stdout",
     "output_type": "stream",
     "text": [
      "This is\n",
      "the first\n",
      "multi-line string.\n",
      "\n"
     ]
    }
   ],
   "source": [
    "str2=''' This is\n",
    "the first \n",
    "multi-line string.\n",
    "'''\n",
    "print(str1)"
   ]
  },
  {
   "cell_type": "code",
   "execution_count": 5,
   "id": "57848463",
   "metadata": {},
   "outputs": [
    {
     "name": "stdout",
     "output_type": "stream",
     "text": [
      "welcome to \"\" python tutorial\" at nettech\n"
     ]
    }
   ],
   "source": [
    "str1='welcome to \"\" python tutorial\" at nettech'\n",
    "print(str1)"
   ]
  },
  {
   "cell_type": "code",
   "execution_count": 6,
   "id": "50a01ce5",
   "metadata": {},
   "outputs": [
    {
     "name": "stdout",
     "output_type": "stream",
     "text": [
      "welcome to 'python tutorial'on at nettech\n"
     ]
    }
   ],
   "source": [
    "str2=\"welcome to 'python tutorial'on at nettech\"\n",
    "print(str2)"
   ]
  },
  {
   "cell_type": "code",
   "execution_count": 7,
   "id": "a1d3e551",
   "metadata": {},
   "outputs": [
    {
     "data": {
      "text/plain": [
       "5"
      ]
     },
     "execution_count": 7,
     "metadata": {},
     "output_type": "execute_result"
    }
   ],
   "source": [
    "greet ='Hello'\n",
    "len(greet)"
   ]
  },
  {
   "cell_type": "code",
   "execution_count": null,
   "id": "a107bb5e",
   "metadata": {},
   "outputs": [],
   "source": [
    "string in python are arrays of bytes representing unicode charaters."
   ]
  },
  {
   "cell_type": "code",
   "execution_count": 8,
   "id": "a2284d5d",
   "metadata": {},
   "outputs": [
    {
     "data": {
      "text/plain": [
       "'H'"
      ]
     },
     "execution_count": 8,
     "metadata": {},
     "output_type": "execute_result"
    }
   ],
   "source": [
    "#positive indexing\n",
    "greet= 'Hello'\n",
    "greet[0]"
   ]
  },
  {
   "cell_type": "code",
   "execution_count": 9,
   "id": "4adae7ea",
   "metadata": {},
   "outputs": [
    {
     "ename": "IndexError",
     "evalue": "string index out of range",
     "output_type": "error",
     "traceback": [
      "\u001b[1;31m---------------------------------------------------------------------------\u001b[0m",
      "\u001b[1;31mIndexError\u001b[0m                                Traceback (most recent call last)",
      "\u001b[1;32m~\\AppData\\Local\\Temp/ipykernel_8296/1031943716.py\u001b[0m in \u001b[0;36m<module>\u001b[1;34m\u001b[0m\n\u001b[1;32m----> 1\u001b[1;33m \u001b[0mgreet\u001b[0m\u001b[1;33m[\u001b[0m\u001b[1;36m5\u001b[0m\u001b[1;33m]\u001b[0m\u001b[1;33m\u001b[0m\u001b[1;33m\u001b[0m\u001b[0m\n\u001b[0m",
      "\u001b[1;31mIndexError\u001b[0m: string index out of range"
     ]
    }
   ],
   "source": [
    "greet[5]"
   ]
  },
  {
   "cell_type": "code",
   "execution_count": 10,
   "id": "1f3b98aa",
   "metadata": {},
   "outputs": [
    {
     "data": {
      "text/plain": [
       "'h'"
      ]
     },
     "execution_count": 10,
     "metadata": {},
     "output_type": "execute_result"
    }
   ],
   "source": [
    "#negative indexing\n",
    "greet='hello'\n",
    "greet[-5]"
   ]
  },
  {
   "cell_type": "code",
   "execution_count": 11,
   "id": "9b47a9a5",
   "metadata": {},
   "outputs": [
    {
     "ename": "TypeError",
     "evalue": "'str' object does not support item assignment",
     "output_type": "error",
     "traceback": [
      "\u001b[1;31m---------------------------------------------------------------------------\u001b[0m",
      "\u001b[1;31mTypeError\u001b[0m                                 Traceback (most recent call last)",
      "\u001b[1;32m~\\AppData\\Local\\Temp/ipykernel_8296/3542102789.py\u001b[0m in \u001b[0;36m<module>\u001b[1;34m\u001b[0m\n\u001b[0;32m      1\u001b[0m \u001b[1;31m#unmutable object hence it is not possible to modify it.\u001b[0m\u001b[1;33m\u001b[0m\u001b[1;33m\u001b[0m\u001b[0m\n\u001b[0;32m      2\u001b[0m \u001b[0mgreet\u001b[0m\u001b[1;33m=\u001b[0m\u001b[1;34m'hello'\u001b[0m\u001b[1;33m\u001b[0m\u001b[1;33m\u001b[0m\u001b[0m\n\u001b[1;32m----> 3\u001b[1;33m \u001b[0mgreet\u001b[0m\u001b[1;33m[\u001b[0m\u001b[1;36m0\u001b[0m\u001b[1;33m]\u001b[0m\u001b[1;33m=\u001b[0m\u001b[1;34m'A'\u001b[0m\u001b[1;33m\u001b[0m\u001b[1;33m\u001b[0m\u001b[0m\n\u001b[0m",
      "\u001b[1;31mTypeError\u001b[0m: 'str' object does not support item assignment"
     ]
    }
   ],
   "source": [
    "#unmutable object hence it is not possible to modify it.\n",
    "greet='hello'\n",
    "greet[0]='A'"
   ]
  },
  {
   "cell_type": "code",
   "execution_count": 12,
   "id": "7e2453e1",
   "metadata": {},
   "outputs": [
    {
     "data": {
      "text/plain": [
       "str"
      ]
     },
     "execution_count": 12,
     "metadata": {},
     "output_type": "execute_result"
    }
   ],
   "source": [
    "greet='hello'\n",
    "type(greet)"
   ]
  },
  {
   "cell_type": "code",
   "execution_count": 14,
   "id": "364a0cb1",
   "metadata": {},
   "outputs": [
    {
     "data": {
      "text/plain": [
       "'a'"
      ]
     },
     "execution_count": 14,
     "metadata": {},
     "output_type": "execute_result"
    }
   ],
   "source": [
    "str2=\"Welcome to 'python tutorial' at Nettech\"\n",
    "str2[-10]"
   ]
  },
  {
   "cell_type": "code",
   "execution_count": 15,
   "id": "7c5bc7ec",
   "metadata": {},
   "outputs": [
    {
     "data": {
      "text/plain": [
       "'ello'"
      ]
     },
     "execution_count": 15,
     "metadata": {},
     "output_type": "execute_result"
    }
   ],
   "source": [
    "greet[1:5]"
   ]
  },
  {
   "cell_type": "code",
   "execution_count": 17,
   "id": "2278719b",
   "metadata": {},
   "outputs": [
    {
     "data": {
      "text/plain": [
       "'Welcome'"
      ]
     },
     "execution_count": 17,
     "metadata": {},
     "output_type": "execute_result"
    }
   ],
   "source": [
    "str2[0:7]"
   ]
  },
  {
   "cell_type": "code",
   "execution_count": 18,
   "id": "72adaa60",
   "metadata": {},
   "outputs": [
    {
     "data": {
      "text/plain": [
       "'ome t'"
      ]
     },
     "execution_count": 18,
     "metadata": {},
     "output_type": "execute_result"
    }
   ],
   "source": [
    "str2[4:9]"
   ]
  },
  {
   "cell_type": "code",
   "execution_count": 19,
   "id": "d48963d3",
   "metadata": {},
   "outputs": [
    {
     "data": {
      "text/plain": [
       "\"elcome to 'python tutorial' at Nettec\""
      ]
     },
     "execution_count": 19,
     "metadata": {},
     "output_type": "execute_result"
    }
   ],
   "source": [
    "str2[1:-1]"
   ]
  },
  {
   "cell_type": "code",
   "execution_count": 20,
   "id": "130e571e",
   "metadata": {},
   "outputs": [
    {
     "data": {
      "text/plain": [
       "''"
      ]
     },
     "execution_count": 20,
     "metadata": {},
     "output_type": "execute_result"
    }
   ],
   "source": [
    "str2[-1:1]"
   ]
  },
  {
   "cell_type": "code",
   "execution_count": 21,
   "id": "d9cad625",
   "metadata": {},
   "outputs": [
    {
     "data": {
      "text/plain": [
       "'ecm '"
      ]
     },
     "execution_count": 21,
     "metadata": {},
     "output_type": "execute_result"
    }
   ],
   "source": [
    "str2=\"welcome to 'python tutorial'on at nettech\"\n",
    "str2[1:8:2]"
   ]
  },
  {
   "cell_type": "code",
   "execution_count": 22,
   "id": "a720a407",
   "metadata": {},
   "outputs": [
    {
     "data": {
      "text/plain": [
       "'h'"
      ]
     },
     "execution_count": 22,
     "metadata": {},
     "output_type": "execute_result"
    }
   ],
   "source": [
    "str2[-1:]"
   ]
  },
  {
   "cell_type": "code",
   "execution_count": 23,
   "id": "9387ab18",
   "metadata": {},
   "outputs": [
    {
     "data": {
      "text/plain": [
       "41"
      ]
     },
     "execution_count": 23,
     "metadata": {},
     "output_type": "execute_result"
    }
   ],
   "source": [
    "str2=\"welcome to 'python tutorial'on at nettech\"\n",
    "len(str2)"
   ]
  },
  {
   "cell_type": "code",
   "execution_count": 26,
   "id": "60c2d4d3",
   "metadata": {},
   "outputs": [],
   "source": [
    "i=1"
   ]
  },
  {
   "cell_type": "code",
   "execution_count": 27,
   "id": "1e19432d",
   "metadata": {},
   "outputs": [
    {
     "data": {
      "text/plain": [
       "\"hcetten ta no'lairotut nohtyp' ot emoclew\""
      ]
     },
     "execution_count": 27,
     "metadata": {},
     "output_type": "execute_result"
    }
   ],
   "source": [
    "str2[-1::-1]"
   ]
  },
  {
   "cell_type": "code",
   "execution_count": 28,
   "id": "b3e36cc7",
   "metadata": {},
   "outputs": [
    {
     "data": {
      "text/plain": [
       "'etn'"
      ]
     },
     "execution_count": 28,
     "metadata": {},
     "output_type": "execute_result"
    }
   ],
   "source": [
    "str2[-3:-8:-2]"
   ]
  },
  {
   "cell_type": "code",
   "execution_count": null,
   "id": "0c89c220",
   "metadata": {},
   "outputs": [],
   "source": [
    "### string function lower()\n",
    "upper()\n",
    "title()\n",
    "capitalize()"
   ]
  },
  {
   "cell_type": "code",
   "execution_count": 29,
   "id": "8007e3c2",
   "metadata": {},
   "outputs": [
    {
     "data": {
      "text/plain": [
       "'my name is vaishnavi'"
      ]
     },
     "execution_count": 29,
     "metadata": {},
     "output_type": "execute_result"
    }
   ],
   "source": [
    "a=\"My name is vaishnavi\"\n",
    "a.lower()"
   ]
  },
  {
   "cell_type": "code",
   "execution_count": 30,
   "id": "20eca183",
   "metadata": {},
   "outputs": [
    {
     "data": {
      "text/plain": [
       "'MY NAME IS VAISHNAVI'"
      ]
     },
     "execution_count": 30,
     "metadata": {},
     "output_type": "execute_result"
    }
   ],
   "source": [
    "a.upper()"
   ]
  },
  {
   "cell_type": "code",
   "execution_count": 32,
   "id": "2498050b",
   "metadata": {},
   "outputs": [
    {
     "name": "stdout",
     "output_type": "stream",
     "text": [
      "hello student \n",
      "welcome to nettech\n"
     ]
    }
   ],
   "source": [
    "print(\"hello student \\nwelcome to nettech\")"
   ]
  },
  {
   "cell_type": "code",
   "execution_count": 34,
   "id": "263ef6c0",
   "metadata": {},
   "outputs": [
    {
     "data": {
      "text/plain": [
       "'My Name Is Vaishnavi'"
      ]
     },
     "execution_count": 34,
     "metadata": {},
     "output_type": "execute_result"
    }
   ],
   "source": [
    "B = \"MY NAME IS VAISHNAVI\"\n",
    "B.title()"
   ]
  },
  {
   "cell_type": "code",
   "execution_count": 33,
   "id": "069adef0",
   "metadata": {},
   "outputs": [
    {
     "ename": "NameError",
     "evalue": "name 'B' is not defined",
     "output_type": "error",
     "traceback": [
      "\u001b[1;31m---------------------------------------------------------------------------\u001b[0m",
      "\u001b[1;31mNameError\u001b[0m                                 Traceback (most recent call last)",
      "\u001b[1;32m~\\AppData\\Local\\Temp/ipykernel_8296/4251145064.py\u001b[0m in \u001b[0;36m<module>\u001b[1;34m\u001b[0m\n\u001b[1;32m----> 1\u001b[1;33m \u001b[0mB\u001b[0m\u001b[1;33m.\u001b[0m\u001b[0mtitle\u001b[0m\u001b[1;33m(\u001b[0m\u001b[1;33m)\u001b[0m\u001b[1;33m\u001b[0m\u001b[1;33m\u001b[0m\u001b[0m\n\u001b[0m",
      "\u001b[1;31mNameError\u001b[0m: name 'B' is not defined"
     ]
    }
   ],
   "source": []
  },
  {
   "cell_type": "code",
   "execution_count": 35,
   "id": "f36a52f3",
   "metadata": {},
   "outputs": [
    {
     "data": {
      "text/plain": [
       "'My name is vaishnavi'"
      ]
     },
     "execution_count": 35,
     "metadata": {},
     "output_type": "execute_result"
    }
   ],
   "source": [
    "B.capitalize()"
   ]
  },
  {
   "cell_type": "code",
   "execution_count": null,
   "id": "65b2619d",
   "metadata": {},
   "outputs": [],
   "source": []
  }
 ],
 "metadata": {
  "kernelspec": {
   "display_name": "Python 3 (ipykernel)",
   "language": "python",
   "name": "python3"
  },
  "language_info": {
   "codemirror_mode": {
    "name": "ipython",
    "version": 3
   },
   "file_extension": ".py",
   "mimetype": "text/x-python",
   "name": "python",
   "nbconvert_exporter": "python",
   "pygments_lexer": "ipython3",
   "version": "3.9.7"
  }
 },
 "nbformat": 4,
 "nbformat_minor": 5
}
